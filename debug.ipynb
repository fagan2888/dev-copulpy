{
 "cells": [
  {
   "cell_type": "code",
   "execution_count": 7,
   "metadata": {},
   "outputs": [],
   "source": [
    "import copulpy\n",
    "import numpy as np\n",
    "import pandas as pd\n",
    "from copulpy.tests.test_auxiliary import generate_random_request\n",
    "from copulpy.clsUtilityCopula import UtilityCopulaCls\n"
   ]
  },
  {
   "cell_type": "code",
   "execution_count": 19,
   "metadata": {},
   "outputs": [
    {
     "name": "stdout",
     "output_type": "stream",
     "text": [
      "hellow hwlloe {0: 6.349884418628691, 1: 7.2932952749736435, 3: 5.773685526516011, 6: 6.44077453210167, 12: 7.074398831236072, 24: 7.4197781748062965}\n"
     ]
    },
    {
     "data": {
      "text/plain": [
       "1.0"
      ]
     },
     "execution_count": 19,
     "metadata": {},
     "output_type": "execute_result"
    }
   ],
   "source": [
    "np.random.seed(123)\n",
    "x, y, is_normalized, copula_spec = generate_random_request({'version': 'nonstationary'})\n",
    "\n",
    "copula = UtilityCopulaCls(copula_spec)\n",
    "util = copula.evaluate(x, y, is_normalized=is_normalized)\n",
    "\n",
    "copula = copula.attr[\"copula\"]\n",
    "m = 5\n",
    "copula.univariate_discount_factor(m, 0)"
   ]
  }
 ],
 "metadata": {
  "kernelspec": {
   "display_name": "Python 3",
   "language": "python",
   "name": "python3"
  },
  "language_info": {
   "codemirror_mode": {
    "name": "ipython",
    "version": 3
   },
   "file_extension": ".py",
   "mimetype": "text/x-python",
   "name": "python",
   "nbconvert_exporter": "python",
   "pygments_lexer": "ipython3",
   "version": "3.7.0"
  }
 },
 "nbformat": 4,
 "nbformat_minor": 2
}
